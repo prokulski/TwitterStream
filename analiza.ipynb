{
 "cells": [
  {
   "cell_type": "code",
   "execution_count": null,
   "metadata": {},
   "outputs": [],
   "source": [
    "import sqlite3\n",
    "import pandas as pd\n",
    "\n",
    "from datetime import datetime\n",
    "\n",
    "import seaborn as sns\n",
    "import matplotlib.pyplot as plt\n",
    "\n",
    "from wordcloud import WordCloud\n",
    "import re\n",
    "import collections"
   ]
  },
  {
   "cell_type": "code",
   "execution_count": null,
   "metadata": {},
   "outputs": [],
   "source": [
    "# open connection to SQLite file\n",
    "conn = sqlite3.connect('twitter.sqlite')\n",
    "c = conn.cursor()"
   ]
  },
  {
   "cell_type": "code",
   "execution_count": null,
   "metadata": {},
   "outputs": [],
   "source": [
    "# query for data\n",
    "c.execute('SELECT * FROM tweets')\n",
    "conn.commit()\n",
    "\n",
    "# fetch data\n",
    "sql_results = c.fetchall()\n",
    "\n",
    "sql_results[:5]"
   ]
  },
  {
   "cell_type": "code",
   "execution_count": null,
   "metadata": {},
   "outputs": [],
   "source": [
    "# close connection to DB\n",
    "conn.close()"
   ]
  },
  {
   "cell_type": "code",
   "execution_count": null,
   "metadata": {},
   "outputs": [],
   "source": [
    "# make dataframe\n",
    "tweets = pd.DataFrame(sql_results)\n",
    "\n",
    "# grab interesting columns\n",
    "tweets = tweets.iloc[:, [0, 3, 4]]\n",
    "\n",
    "# rename them\n",
    "tweets.columns = ['user_name', 'timestamp_ms', 'message']\n",
    "\n",
    "tweets.head()"
   ]
  },
  {
   "cell_type": "code",
   "execution_count": null,
   "metadata": {},
   "outputs": [],
   "source": [
    "# timestamp to datatime\n",
    "tweets['datetime'] = tweets.timestamp_ms.map(lambda x: datetime.fromtimestamp(int(x)/1000))\n",
    "tweets.head()"
   ]
  },
  {
   "cell_type": "code",
   "execution_count": null,
   "metadata": {},
   "outputs": [],
   "source": [
    "# top 20 tweeters\n",
    "top_20 = tweets.groupby('user_name')['message'].count().reset_index().sort_values('message', ascending=False)[:20]\n",
    "top_20"
   ]
  },
  {
   "cell_type": "code",
   "execution_count": null,
   "metadata": {},
   "outputs": [],
   "source": [
    "ax = sns.barplot(x = 'user_name', y = 'message', data=top_20, color='lightblue')\n",
    "ax.set_title('Number of tweets sent')\n",
    "ax.set_xlabel('Twitter user')\n",
    "ax.set_ylabel('Sent tweets')\n",
    "plt.xticks(rotation=90)"
   ]
  },
  {
   "cell_type": "code",
   "execution_count": null,
   "metadata": {},
   "outputs": [],
   "source": [
    "# plik z polskimi stop words\n",
    "pl_stop_words = pd.read_csv(\"polish_stopwords.txt\", header=None)[0].tolist()"
   ]
  },
  {
   "cell_type": "code",
   "execution_count": null,
   "metadata": {},
   "outputs": [],
   "source": [
    "# wszystkie tweety w jeden ciąg\n",
    "my_text = \" \".join(tweets['message'])\n",
    "\n",
    "# remove twitter nicks\n",
    "my_text = re.sub(r\"@\\w+\", \" \", my_text) \n",
    "\n",
    "# remove urls\n",
    "my_text = re.sub(r\"(www|http:|https:)+[^\\s]+[\\w]\", \" \", my_text) \n",
    "\n",
    "# wszystko na małe literki\n",
    "my_text = my_text.lower() "
   ]
  },
  {
   "cell_type": "code",
   "execution_count": null,
   "metadata": {},
   "outputs": [],
   "source": [
    "wordcloud = WordCloud(width=1024, height=1024,\n",
    "                      max_font_size=50,\n",
    "                      max_words=200,\n",
    "                      stopwords=pl_stop_words,\n",
    "                      background_color='white').generate(my_text)\n",
    "\n",
    "plt.figure(figsize=[10, 10], dpi=90)\n",
    "plt.imshow(wordcloud, interpolation='bilinear')"
   ]
  },
  {
   "cell_type": "code",
   "execution_count": null,
   "metadata": {},
   "outputs": [],
   "source": [
    "# wszystkie tweety w jeden ciąg\n",
    "my_text = \" \".join(tweets['message'])\n",
    "\n",
    "# zliczamy ile razy regexp pattern występuje w tekście\n",
    "nicks = re.findall(r\"@\\w+\", my_text)\n",
    "\n",
    "# ile razy występuje element na liście\n",
    "nicks_count = collections.Counter(nicks)\n",
    "\n",
    "# chmurka słów na podstawie słownika frekfencji\n",
    "wordcloud = WordCloud(width=1024, height=1024,\n",
    "                      max_font_size=50,\n",
    "                      max_words=50,\n",
    "                      stopwords=pl_stop_words,\n",
    "                      background_color='white').generate_from_frequencies(nicks_count)\n",
    "\n",
    "plt.figure(figsize=[10, 10], dpi=90)\n",
    "plt.imshow(wordcloud, interpolation='bilinear')"
   ]
  }
 ],
 "metadata": {
  "kernelspec": {
   "display_name": "Python 3",
   "language": "python",
   "name": "python3"
  },
  "language_info": {
   "codemirror_mode": {
    "name": "ipython",
    "version": 3
   },
   "file_extension": ".py",
   "mimetype": "text/x-python",
   "name": "python",
   "nbconvert_exporter": "python",
   "pygments_lexer": "ipython3",
   "version": "3.6.5"
  }
 },
 "nbformat": 4,
 "nbformat_minor": 2
}
